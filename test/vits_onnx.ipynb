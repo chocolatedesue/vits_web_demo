{
  "cells": [
    {
      "cell_type": "code",
      "execution_count": null,
      "metadata": {
        "id": "oZvxjnWUEcFo"
      },
      "outputs": [],
      "source": [
        "!git clone https://github.com/chocolatedesue/vits_web_demo.git --depth 1 --branch onnx\n",
        "%cd vits_web_demo\n",
        "%pip install -U pip\n",
        "%pip install -r requirements.txt\n",
        "%pip install onnxruntime-gpu\n",
        "\n"
      ]
    },
    {
      "cell_type": "code",
      "execution_count": null,
      "metadata": {
        "id": "Cd4WFIxbFGhe"
      },
      "outputs": [],
      "source": [
        "!python - m app.main - -share True\n"
      ]
    }
  ],
  "metadata": {
    "accelerator": "GPU",
    "colab": {
      "provenance": []
    },
    "gpuClass": "standard",
    "kernelspec": {
      "display_name": "wetts",
      "language": "python",
      "name": "python3"
    },
    "language_info": {
      "name": "python",
      "version": "3.8.15 (default, Nov 24 2022, 15:19:38) \n[GCC 11.2.0]"
    },
    "vscode": {
      "interpreter": {
        "hash": "59b0937d775ba3f7d20f0c4013d8a6b50c598c2922a8d08ce731089e98913287"
      }
    }
  },
  "nbformat": 4,
  "nbformat_minor": 0
}
