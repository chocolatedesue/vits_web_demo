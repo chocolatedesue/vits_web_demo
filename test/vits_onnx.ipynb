{
  "cells": [
    {
      "cell_type": "code",
      "execution_count": null,
      "metadata": {
        "id": "oZvxjnWUEcFo"
      },
      "outputs": [],
      "source": [
        "!git clone https://github.com/chocolatedesue/vits_web_demo.git --depth 1 --branch onnx\n",
        "%cd vits_web_demo\n",
        "%pip install -U pip\n",
        "%pip install -r requirements.txt\n",
        "%pip install onnxruntime-gpu\n",
        "\n"
      ]
    },
    {
      "cell_type": "code",
      "execution_count": null,
      "metadata": {
        "id": "Cd4WFIxbFGhe"
      },
      "outputs": [],
      "source": [
        "!python - m app.main - -share True\n"
      ]
    }
  ],
  "metadata": {
    "accelerator": "GPU",
    "colab": {
      "provenance": []
    },
    "gpuClass": "standard",
    "kernelspec": {
      "display_name": "Python 3",
      "name": "python3"
    },
    "language_info": {
      "name": "python"
    }
  },
  "nbformat": 4,
  "nbformat_minor": 0
}
